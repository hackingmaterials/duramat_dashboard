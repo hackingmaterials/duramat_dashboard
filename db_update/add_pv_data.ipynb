{
 "cells": [
  {
   "cell_type": "markdown",
   "metadata": {
    "toc": "true"
   },
   "source": [
    "# Table of Contents\n",
    " <p>"
   ]
  },
  {
   "cell_type": "code",
   "execution_count": 1,
   "metadata": {
    "collapsed": true
   },
   "outputs": [],
   "source": [
    "import os\n",
    "import pandas as pd\n",
    "\n",
    "import json\n",
    "import pickle"
   ]
  },
  {
   "cell_type": "code",
   "execution_count": null,
   "metadata": {
    "collapsed": true
   },
   "outputs": [],
   "source": [
    "user = os.environ.get('MONGOD_DURAMAT_ADMIN_USER')\n",
    "passwd = os.environ.get('MONGOD_DURAMAT_ADMIN_PASS')\n",
    "leftover = os.environ.get('MONGOD_DURAMAT_LEFTOVER')\n",
    "client = MongoClient('mongodb+srv://{}:{}@{}'.format(user, passwd, leftover))\n",
    "client.database_names()"
   ]
  },
  {
   "cell_type": "raw",
   "metadata": {},
   "source": [
    "def read_sys_meta(fname='/Users/benellis/data_sets/PVoutput/Meta_Data/sys_meta.xlsx'):\n",
    "    sys_meta = pd.read_excel(fname)\n",
    "    sys_meta['Elevation (m)'] = sys_meta['Elevation(Ft)'] * 0.3048\n",
    "    # ID will stay capitalized -- avoid confusion with mongo _id key\n",
    "    mapper = {\n",
    "        'System Name': 'system_name', \n",
    "        'System Size(W)': 'system_size (W)',\n",
    "        'Postcode': 'postcode',\n",
    "        'Number Of Panels': 'n_panels',\n",
    "        'Panel Power(W)': 'p_panel (W)',\n",
    "        'Panel Brand' : 'panel_brand',\n",
    "        'Number Of Inverters': 'n_inverters',\n",
    "        'Inverter Power(W)': 'p_inverter (W)', \n",
    "        'Inverter Brand': 'inverter_brand', \n",
    "        'Orientation': 'orientation (cardinal)',\n",
    "        'Array Tilt(Degree)': 'array_tilt (deg)', \n",
    "        'Shade': 'shade', \n",
    "        'Install Date': 'install_date', \n",
    "        'Active Days': 'active_days',\n",
    "        'Latitude': 'latitude (deg)',\n",
    "        'Longitude': 'longitude (deg)',\n",
    "        'Elevation(Ft)': 'elevation (ft)',\n",
    "        'Status Interval(Mins)': 'status_interval (min)',\n",
    "        'TimeZone': 'timezone', \n",
    "        'LastUpdate': 'last_update', \n",
    "        'df': 'time_series_data',\n",
    "        'Orientation_deg': 'orientation (deg)', \n",
    "        'Climate': 'climate_class', \n",
    "        'County': 'county', \n",
    "        'State': 'state (abbr)', \n",
    "        'State name': 'state (name)',\n",
    "        'Elevation (m)': 'elevation (m)'\n",
    "    }\n",
    "\n",
    "    sys_meta.rename(columns=mapper, inplace=True)\n",
    "    # North (N): 0° = 360°\n",
    "    # East (E): 90°\n",
    "    # South (S): 180°\n",
    "    # West (W): 270°\n",
    "    # Northeast (NE), 45°, halfway between north and east, is the opposite of southwest.\n",
    "    # Southeast (SE), 135°, halfway between south and east, is the opposite of northwest.\n",
    "    # Southwest (SW), 225°, halfway between south and west, is the opposite of northeast.\n",
    "    # Northwest (NW), 315°, halfway between north and west, is the opposite of southeast.\n",
    "    sys_meta['orientation (deg)'] = \\\n",
    "    sys_meta['orientation (cardinal)'].map({'N':   0, 'E':   90, 'S':  180, 'W':  270, \n",
    "                                            'NE': 45, 'SE': 135, 'SW': 225, 'NW': 315})\n",
    "    return sys_meta"
   ]
  },
  {
   "cell_type": "raw",
   "metadata": {
    "collapsed": true
   },
   "source": [
    "CLIMATE_TABLE = pd.read_csv('~/KoeppenGeiger.UScounty.txt', sep='\\t')\n",
    "def geo_lookup(lat, lon):\n",
    "    import requests\n",
    "\n",
    "    payload = {'latitude': lat,\n",
    "               'longitude': lon,\n",
    "               'format': 'json'}\n",
    "    response = requests.get('https://geo.fcc.gov/api/census/block/find', params=payload)\n",
    "    response = json.loads(response.text)\n",
    "\n",
    "    results = {}\n",
    "    results['state (name)'] = response['State']['name']\n",
    "    results['state (abbr)'] = response['State']['code']\n",
    "    results['county'] = response['County']['name']\n",
    "\n",
    "    try:\n",
    "        results['climate'] = CLIMATE_TABLE[(CLIMATE_TABLE['STATE'] == results['state (name)']) &\n",
    "                                           (CLIMATE_TABLE['COUNTY'] == results['county'])]['CLS'].values[0]\n",
    "    except IndexError:\n",
    "        results['climate'] = 'None'\n",
    "\n",
    "    return results\n",
    "\n",
    "def add_geo(df):\n",
    "    import time\n",
    "    new_df = []\n",
    "    for idx, row in df.iterrows():\n",
    "        print(idx, end='\\r')\n",
    "        results = geo_lookup(row['latitude (deg)'], row['longitude (deg)'])\n",
    "        new_df.append({**results, **{'ID': row['ID']}})\n",
    "        time.sleep(1)\n",
    "    new_df = pd.DataFrame(new_df)\n",
    "    return new_df"
   ]
  },
  {
   "cell_type": "raw",
   "metadata": {},
   "source": [
    "sys_meta = read_sys_meta()"
   ]
  },
  {
   "cell_type": "raw",
   "metadata": {},
   "source": [
    "sys_meta = pd.merge(sys_meta, add_geo(sys_meta), left_on='ID', right_on='ID')"
   ]
  },
  {
   "cell_type": "raw",
   "metadata": {},
   "source": [
    "sys_meta.head()"
   ]
  },
  {
   "cell_type": "raw",
   "metadata": {},
   "source": [
    "sys_meta.keys()"
   ]
  },
  {
   "cell_type": "raw",
   "metadata": {
    "collapsed": true
   },
   "source": [
    "sys_meta.to_pickle('sys_meta.pkl')"
   ]
  },
  {
   "cell_type": "code",
   "execution_count": 4,
   "metadata": {
    "collapsed": true
   },
   "outputs": [],
   "source": [
    "sys_meta = pd.read_pickle('sys_meta.pkl')"
   ]
  },
  {
   "cell_type": "code",
   "execution_count": 5,
   "metadata": {
    "collapsed": true
   },
   "outputs": [],
   "source": [
    "def read_time_series_data(dir_path='/Users/benellis/data_sets/PVoutput/Merged_Data/merged_csv'):\n",
    "    dfs = {}\n",
    "    mapper = {\n",
    "        'SurfaceTemperatureCelsius': 't_surface (C)',\n",
    "        'SurfaceDewpointTemperatureCelsius': 't_dewpoint (C)', \n",
    "        'SurfaceWetBulbTemperatureCelsius': 't_wetbulb (C)',\n",
    "        'RelativeHumidityPercent': 'rh (%)', \n",
    "        'SurfaceAirPressureKilopascals': 'p_surface (kPa)',\n",
    "        'CloudCoveragePercent': 'cloud_cover (%)', \n",
    "        'WindChillTemperatureCelsius': 't_wind_chill (C)',\n",
    "        'ApparentTemperatureCelsius': 't_apparent (C)', \n",
    "        'WindSpeedKph': 'v_wind (kph)', \n",
    "        'WindDirectionDegrees': 'd_wind (deg)',\n",
    "        'PrecipitationPreviousHourCentimeters': 'precip_prev_hr (cm)', \n",
    "        'DownwardSolarRadiationWsqm': 'downard_solar_irrad (Wm-2)',\n",
    "        'DiffuseHorizontalRadiationWsqm': 'diffuse_horizontal_irrad (Wm-2)', \n",
    "        'DirectNormalIrradianceWsqm': 'direct_normal_irrad (Wm-2)',\n",
    "        'MslPressureKilopascals': 'mslp (kPa)', \n",
    "        'HeatIndexCelsius': 'heat_index (C)', \n",
    "        'SnowfallCentimeters': 'snow (cm)',\n",
    "        'SurfaceWindGustsKph': 'wind_gust (kph)', \n",
    "        'GlobalHorizontalIrradianceWsqm': 'global_horizontal_irrad (Wm-2)', \n",
    "        'poa_global': 'poa_global_irrad (Wm-2)',\n",
    "        'poa_direct': 'poa_direct_irrad (Wm-2)', \n",
    "        'poa_diffuse': 'poa_diffuse_irrad (Wm-2)', \n",
    "        'poa_sky_diffuse': 'poa_diffuse_sky (Wm-2)', \n",
    "        'poa_ground_diffuse': 'poa_diffuse_ground (Wm-2)',\n",
    "        'Power(W)': 'power (W)', \n",
    "        'Energy(Wh)': 'energy (Wh)'\n",
    "    }\n",
    "\n",
    "    for f in os.listdir(dir_path):\n",
    "        sys_id = int(f.split('_')[0])\n",
    "        df = pd.read_csv(os.path.join(dir_path, f))\n",
    "        df.rename(columns=mapper, inplace=True)\n",
    "        df.index = pd.to_datetime(df['local_time'])\n",
    "        tz = sys_meta[sys_meta['ID'] == sys_id]\n",
    "        tz = tz['timezone'].values[0]\n",
    "        df.index = df.index.tz_localize(tz, ambiguous='infer') \n",
    "        # bsons[sys_id] = pickle.dumps(df)\n",
    "        dfs[sys_id] = df\n",
    "        \n",
    "    sys_dfs = pd.DataFrame.from_dict(dfs, orient='index')\n",
    "    sys_dfs['ID'] = sys_dfs.index\n",
    "    sys_dfs = sys_dfs.rename(columns={0: 'time_series_data'})\n",
    "    return sys_dfs\n"
   ]
  },
  {
   "cell_type": "code",
   "execution_count": 6,
   "metadata": {
    "collapsed": true
   },
   "outputs": [],
   "source": [
    "ts_df = read_time_series_data()"
   ]
  },
  {
   "cell_type": "code",
   "execution_count": 7,
   "metadata": {},
   "outputs": [
    {
     "data": {
      "text/html": [
       "<div>\n",
       "<style scoped>\n",
       "    .dataframe tbody tr th:only-of-type {\n",
       "        vertical-align: middle;\n",
       "    }\n",
       "\n",
       "    .dataframe tbody tr th {\n",
       "        vertical-align: top;\n",
       "    }\n",
       "\n",
       "    .dataframe thead th {\n",
       "        text-align: right;\n",
       "    }\n",
       "</style>\n",
       "<table border=\"1\" class=\"dataframe\">\n",
       "  <thead>\n",
       "    <tr style=\"text-align: right;\">\n",
       "      <th></th>\n",
       "      <th>time_series_data</th>\n",
       "      <th>ID</th>\n",
       "    </tr>\n",
       "  </thead>\n",
       "  <tbody>\n",
       "    <tr>\n",
       "      <th>25601</th>\n",
       "      <td>local_time...</td>\n",
       "      <td>25601</td>\n",
       "    </tr>\n",
       "    <tr>\n",
       "      <th>35842</th>\n",
       "      <td>local_time...</td>\n",
       "      <td>35842</td>\n",
       "    </tr>\n",
       "    <tr>\n",
       "      <th>20485</th>\n",
       "      <td>local_time...</td>\n",
       "      <td>20485</td>\n",
       "    </tr>\n",
       "    <tr>\n",
       "      <th>33798</th>\n",
       "      <td>local_time...</td>\n",
       "      <td>33798</td>\n",
       "    </tr>\n",
       "    <tr>\n",
       "      <th>26632</th>\n",
       "      <td>local_time...</td>\n",
       "      <td>26632</td>\n",
       "    </tr>\n",
       "  </tbody>\n",
       "</table>\n",
       "</div>"
      ],
      "text/plain": [
       "                                        time_series_data     ID\n",
       "25601                                      local_time...  25601\n",
       "35842                                      local_time...  35842\n",
       "20485                                      local_time...  20485\n",
       "33798                                      local_time...  33798\n",
       "26632                                      local_time...  26632"
      ]
     },
     "execution_count": 7,
     "metadata": {},
     "output_type": "execute_result"
    }
   ],
   "source": [
    "ts_df.head()"
   ]
  },
  {
   "cell_type": "code",
   "execution_count": 8,
   "metadata": {},
   "outputs": [
    {
     "data": {
      "text/html": [
       "<div>\n",
       "<style scoped>\n",
       "    .dataframe tbody tr th:only-of-type {\n",
       "        vertical-align: middle;\n",
       "    }\n",
       "\n",
       "    .dataframe tbody tr th {\n",
       "        vertical-align: top;\n",
       "    }\n",
       "\n",
       "    .dataframe thead th {\n",
       "        text-align: right;\n",
       "    }\n",
       "</style>\n",
       "<table border=\"1\" class=\"dataframe\">\n",
       "  <thead>\n",
       "    <tr style=\"text-align: right;\">\n",
       "      <th></th>\n",
       "      <th>local_time</th>\n",
       "      <th>t_surface (C)</th>\n",
       "      <th>t_dewpoint (C)</th>\n",
       "      <th>t_wetbulb (C)</th>\n",
       "      <th>rh (%)</th>\n",
       "      <th>p_surface (kPa)</th>\n",
       "      <th>cloud_cover (%)</th>\n",
       "      <th>t_wind_chill (C)</th>\n",
       "      <th>t_apparent (C)</th>\n",
       "      <th>v_wind (kph)</th>\n",
       "      <th>...</th>\n",
       "      <th>snow (cm)</th>\n",
       "      <th>wind_gust (kph)</th>\n",
       "      <th>global_horizontal_irrad (Wm-2)</th>\n",
       "      <th>poa_global_irrad (Wm-2)</th>\n",
       "      <th>poa_direct_irrad (Wm-2)</th>\n",
       "      <th>poa_diffuse_irrad (Wm-2)</th>\n",
       "      <th>poa_diffuse_sky (Wm-2)</th>\n",
       "      <th>poa_diffuse_ground (Wm-2)</th>\n",
       "      <th>power (W)</th>\n",
       "      <th>energy (Wh)</th>\n",
       "    </tr>\n",
       "    <tr>\n",
       "      <th>local_time</th>\n",
       "      <th></th>\n",
       "      <th></th>\n",
       "      <th></th>\n",
       "      <th></th>\n",
       "      <th></th>\n",
       "      <th></th>\n",
       "      <th></th>\n",
       "      <th></th>\n",
       "      <th></th>\n",
       "      <th></th>\n",
       "      <th></th>\n",
       "      <th></th>\n",
       "      <th></th>\n",
       "      <th></th>\n",
       "      <th></th>\n",
       "      <th></th>\n",
       "      <th></th>\n",
       "      <th></th>\n",
       "      <th></th>\n",
       "      <th></th>\n",
       "      <th></th>\n",
       "    </tr>\n",
       "  </thead>\n",
       "  <tbody>\n",
       "    <tr>\n",
       "      <th>2014-03-03 00:00:00-08:00</th>\n",
       "      <td>2014-03-03 00:00:00</td>\n",
       "      <td>10.1</td>\n",
       "      <td>8.29</td>\n",
       "      <td>9.1</td>\n",
       "      <td>89</td>\n",
       "      <td>100.4</td>\n",
       "      <td>6</td>\n",
       "      <td>10.1</td>\n",
       "      <td>10.1</td>\n",
       "      <td>7.4</td>\n",
       "      <td>...</td>\n",
       "      <td>0.0</td>\n",
       "      <td>33.2</td>\n",
       "      <td>0.0</td>\n",
       "      <td>0.0</td>\n",
       "      <td>-0.0</td>\n",
       "      <td>0.0</td>\n",
       "      <td>0.0</td>\n",
       "      <td>0.0</td>\n",
       "      <td>NaN</td>\n",
       "      <td>NaN</td>\n",
       "    </tr>\n",
       "    <tr>\n",
       "      <th>2014-03-03 01:00:00-08:00</th>\n",
       "      <td>2014-03-03 01:00:00</td>\n",
       "      <td>10.7</td>\n",
       "      <td>9.01</td>\n",
       "      <td>9.8</td>\n",
       "      <td>89</td>\n",
       "      <td>100.3</td>\n",
       "      <td>24</td>\n",
       "      <td>10.7</td>\n",
       "      <td>10.7</td>\n",
       "      <td>10.0</td>\n",
       "      <td>...</td>\n",
       "      <td>0.0</td>\n",
       "      <td>35.7</td>\n",
       "      <td>0.0</td>\n",
       "      <td>0.0</td>\n",
       "      <td>-0.0</td>\n",
       "      <td>0.0</td>\n",
       "      <td>0.0</td>\n",
       "      <td>0.0</td>\n",
       "      <td>NaN</td>\n",
       "      <td>NaN</td>\n",
       "    </tr>\n",
       "    <tr>\n",
       "      <th>2014-03-03 02:00:00-08:00</th>\n",
       "      <td>2014-03-03 02:00:00</td>\n",
       "      <td>10.8</td>\n",
       "      <td>8.76</td>\n",
       "      <td>9.7</td>\n",
       "      <td>88</td>\n",
       "      <td>100.3</td>\n",
       "      <td>38</td>\n",
       "      <td>10.8</td>\n",
       "      <td>10.8</td>\n",
       "      <td>9.2</td>\n",
       "      <td>...</td>\n",
       "      <td>0.0</td>\n",
       "      <td>36.9</td>\n",
       "      <td>0.0</td>\n",
       "      <td>0.0</td>\n",
       "      <td>-0.0</td>\n",
       "      <td>0.0</td>\n",
       "      <td>0.0</td>\n",
       "      <td>0.0</td>\n",
       "      <td>NaN</td>\n",
       "      <td>NaN</td>\n",
       "    </tr>\n",
       "    <tr>\n",
       "      <th>2014-03-03 03:00:00-08:00</th>\n",
       "      <td>2014-03-03 03:00:00</td>\n",
       "      <td>10.6</td>\n",
       "      <td>8.60</td>\n",
       "      <td>9.5</td>\n",
       "      <td>87</td>\n",
       "      <td>100.3</td>\n",
       "      <td>42</td>\n",
       "      <td>10.6</td>\n",
       "      <td>10.6</td>\n",
       "      <td>9.6</td>\n",
       "      <td>...</td>\n",
       "      <td>0.0</td>\n",
       "      <td>38.1</td>\n",
       "      <td>0.0</td>\n",
       "      <td>0.0</td>\n",
       "      <td>-0.0</td>\n",
       "      <td>0.0</td>\n",
       "      <td>0.0</td>\n",
       "      <td>0.0</td>\n",
       "      <td>NaN</td>\n",
       "      <td>NaN</td>\n",
       "    </tr>\n",
       "    <tr>\n",
       "      <th>2014-03-03 04:00:00-08:00</th>\n",
       "      <td>2014-03-03 04:00:00</td>\n",
       "      <td>10.4</td>\n",
       "      <td>8.30</td>\n",
       "      <td>9.3</td>\n",
       "      <td>87</td>\n",
       "      <td>100.3</td>\n",
       "      <td>42</td>\n",
       "      <td>10.4</td>\n",
       "      <td>10.4</td>\n",
       "      <td>10.1</td>\n",
       "      <td>...</td>\n",
       "      <td>0.0</td>\n",
       "      <td>38.9</td>\n",
       "      <td>0.0</td>\n",
       "      <td>0.0</td>\n",
       "      <td>-0.0</td>\n",
       "      <td>0.0</td>\n",
       "      <td>0.0</td>\n",
       "      <td>0.0</td>\n",
       "      <td>NaN</td>\n",
       "      <td>NaN</td>\n",
       "    </tr>\n",
       "  </tbody>\n",
       "</table>\n",
       "<p>5 rows × 27 columns</p>\n",
       "</div>"
      ],
      "text/plain": [
       "                                    local_time  t_surface (C)  t_dewpoint (C)  \\\n",
       "local_time                                                                      \n",
       "2014-03-03 00:00:00-08:00  2014-03-03 00:00:00           10.1            8.29   \n",
       "2014-03-03 01:00:00-08:00  2014-03-03 01:00:00           10.7            9.01   \n",
       "2014-03-03 02:00:00-08:00  2014-03-03 02:00:00           10.8            8.76   \n",
       "2014-03-03 03:00:00-08:00  2014-03-03 03:00:00           10.6            8.60   \n",
       "2014-03-03 04:00:00-08:00  2014-03-03 04:00:00           10.4            8.30   \n",
       "\n",
       "                           t_wetbulb (C)  rh (%)  p_surface (kPa)  \\\n",
       "local_time                                                          \n",
       "2014-03-03 00:00:00-08:00            9.1      89            100.4   \n",
       "2014-03-03 01:00:00-08:00            9.8      89            100.3   \n",
       "2014-03-03 02:00:00-08:00            9.7      88            100.3   \n",
       "2014-03-03 03:00:00-08:00            9.5      87            100.3   \n",
       "2014-03-03 04:00:00-08:00            9.3      87            100.3   \n",
       "\n",
       "                           cloud_cover (%)  t_wind_chill (C)  t_apparent (C)  \\\n",
       "local_time                                                                     \n",
       "2014-03-03 00:00:00-08:00                6              10.1            10.1   \n",
       "2014-03-03 01:00:00-08:00               24              10.7            10.7   \n",
       "2014-03-03 02:00:00-08:00               38              10.8            10.8   \n",
       "2014-03-03 03:00:00-08:00               42              10.6            10.6   \n",
       "2014-03-03 04:00:00-08:00               42              10.4            10.4   \n",
       "\n",
       "                           v_wind (kph)     ...       snow (cm)  \\\n",
       "local_time                                  ...                   \n",
       "2014-03-03 00:00:00-08:00           7.4     ...             0.0   \n",
       "2014-03-03 01:00:00-08:00          10.0     ...             0.0   \n",
       "2014-03-03 02:00:00-08:00           9.2     ...             0.0   \n",
       "2014-03-03 03:00:00-08:00           9.6     ...             0.0   \n",
       "2014-03-03 04:00:00-08:00          10.1     ...             0.0   \n",
       "\n",
       "                           wind_gust (kph)  global_horizontal_irrad (Wm-2)  \\\n",
       "local_time                                                                   \n",
       "2014-03-03 00:00:00-08:00             33.2                             0.0   \n",
       "2014-03-03 01:00:00-08:00             35.7                             0.0   \n",
       "2014-03-03 02:00:00-08:00             36.9                             0.0   \n",
       "2014-03-03 03:00:00-08:00             38.1                             0.0   \n",
       "2014-03-03 04:00:00-08:00             38.9                             0.0   \n",
       "\n",
       "                           poa_global_irrad (Wm-2)  poa_direct_irrad (Wm-2)  \\\n",
       "local_time                                                                    \n",
       "2014-03-03 00:00:00-08:00                      0.0                     -0.0   \n",
       "2014-03-03 01:00:00-08:00                      0.0                     -0.0   \n",
       "2014-03-03 02:00:00-08:00                      0.0                     -0.0   \n",
       "2014-03-03 03:00:00-08:00                      0.0                     -0.0   \n",
       "2014-03-03 04:00:00-08:00                      0.0                     -0.0   \n",
       "\n",
       "                           poa_diffuse_irrad (Wm-2)  poa_diffuse_sky (Wm-2)  \\\n",
       "local_time                                                                    \n",
       "2014-03-03 00:00:00-08:00                       0.0                     0.0   \n",
       "2014-03-03 01:00:00-08:00                       0.0                     0.0   \n",
       "2014-03-03 02:00:00-08:00                       0.0                     0.0   \n",
       "2014-03-03 03:00:00-08:00                       0.0                     0.0   \n",
       "2014-03-03 04:00:00-08:00                       0.0                     0.0   \n",
       "\n",
       "                           poa_diffuse_ground (Wm-2)  power (W)  energy (Wh)  \n",
       "local_time                                                                    \n",
       "2014-03-03 00:00:00-08:00                        0.0        NaN          NaN  \n",
       "2014-03-03 01:00:00-08:00                        0.0        NaN          NaN  \n",
       "2014-03-03 02:00:00-08:00                        0.0        NaN          NaN  \n",
       "2014-03-03 03:00:00-08:00                        0.0        NaN          NaN  \n",
       "2014-03-03 04:00:00-08:00                        0.0        NaN          NaN  \n",
       "\n",
       "[5 rows x 27 columns]"
      ]
     },
     "execution_count": 8,
     "metadata": {},
     "output_type": "execute_result"
    }
   ],
   "source": [
    "ts_df.iloc[0]['time_series_data'].head()"
   ]
  },
  {
   "cell_type": "code",
   "execution_count": 48,
   "metadata": {},
   "outputs": [],
   "source": [
    "import pvlib\n",
    "import numpy as np\n",
    "import matplotlib.pyplot as plt\n",
    "import rdtools\n",
    "\n",
    "%matplotlib inline\n",
    "def rdtools_analysis(df, ts):\n",
    "    # Specify the Metadata\n",
    "    meta = {\"latitude\": df['latitude (deg)'],\n",
    "            \"longitude\": df['longitude (deg)'],\n",
    "            \"timezone\": df['timezone'],\n",
    "            \"tempco\": None,\n",
    "            \"azimuth\": df['orientation (deg)'],\n",
    "            \"tilt\": df['array_tilt (deg)'],\n",
    "            \"pdc\": df['system_size (W)'],\n",
    "            \"temp_model\": 'open_rack_cell_polymerback'}\n",
    "    \n",
    "#     ts = pickle.loads(df['time_series_data'])\n",
    "#     ts.index = pd.to_datetime(ts['local_time'])\n",
    "    # TZ is required for irradiance transposition\n",
    "#     ts.index = ts.index.tz_localize(meta['timezone'], ambiguous='infer') \n",
    "\n",
    "    # Chage power from kilowatts to watts\n",
    "    # There is some missing data, but we can infer the frequency from the first several data points\n",
    "    freq = pd.infer_freq(ts.index[:10])\n",
    "\n",
    "    # And then set the frequency of the dataframe\n",
    "    ts = ts.resample(freq).median()\n",
    "\n",
    "    # Calculate energy yield in Wh\n",
    "    ts['energy'] = ts['power (W)'] * pd.to_timedelta(ts['power (W)'].index.freq).total_seconds() / (3600.0)\n",
    "    # ts['energy'] = ts['Energy(Wh)']\n",
    "\n",
    "    # Calculate POA irradiance from DHI, GHI inputs\n",
    "    loc = pvlib.location.Location(meta['latitude'], meta['longitude'], tz=meta['timezone'])\n",
    "    sun = loc.get_solarposition(ts.index)\n",
    "\n",
    "    # calculate the POA irradiance\n",
    "    sky = pvlib.irradiance.isotropic(meta['tilt'], ts['diffuse_horizontal_irrad (Wm-2)'])\n",
    "    ts['dni'] = (ts['global_horizontal_irrad (Wm-2)'] - ts['diffuse_horizontal_irrad (Wm-2)']) / np.cos(np.deg2rad(sun['zenith']))\n",
    "    beam = pvlib.irradiance.beam_component(meta['tilt'], meta['azimuth'], sun['zenith'], sun['azimuth'], ts['direct_normal_irrad (Wm-2)'])\n",
    "    ts['poa'] = beam + sky\n",
    "\n",
    "    # Calculate cell temperature\n",
    "    df_temp = pvlib.pvsystem.sapm_celltemp(ts['poa'], ts['v_wind (kph)'], ts['t_apparent (C)'], model=meta['temp_model'])\n",
    "    ts['Tcell'] = df_temp['temp_cell']\n",
    "    \n",
    "    # Specify the keywords for the pvwatts model\n",
    "    pvwatts_kws = {\"poa_global\" : ts['poa'],\n",
    "                   \"P_ref\" : meta['pdc'],\n",
    "                   \"T_cell\" : ts['Tcell'],\n",
    "                   \"G_ref\" : 1000,\n",
    "                   \"T_ref\": 25,\n",
    "                   \"gamma_pdc\" : meta['tempco']}\n",
    "    \n",
    "    normalized, insolation = rdtools.normalize_with_pvwatts(ts['energy'], pvwatts_kws)\n",
    "\n",
    "    ts['normalized'] = normalized\n",
    "    ts['insolation'] = insolation\n",
    "\n",
    "    nz_mask = (ts['normalized'] > 0)\n",
    "    poa_mask = rdtools.poa_filter(ts['poa'])\n",
    "    tcell_mask = rdtools.tcell_filter(ts['Tcell'])\n",
    "    clip_mask = rdtools.clip_filter(ts['power (W)'])\n",
    "\n",
    "    # filter the time series and keep only the columns needed for the\n",
    "    # remaining steps\n",
    "    filtered = ts[nz_mask & poa_mask & tcell_mask & clip_mask]\n",
    "    filtered = filtered[['insolation', 'normalized']]\n",
    "    daily = rdtools.aggregation_insol(filtered['normalized'], filtered['insolation'], frequency='D')\n",
    "#     daily = rdtools.aggregation_insol(filtered['normalized'], filtered['insolation'], frequency='D')\n",
    "       \n",
    "#     fig, ax = plt.subplots()\n",
    "#     daily.plot(ax=ax)\n",
    "\n",
    "    # Calculate the degradation rate using the YoY method\n",
    "    yoy_rd, yoy_ci, yoy_info = rdtools.degradation_year_on_year(daily)\n",
    "    ols_rd, ols_ci, ols_info = rdtools.degradation_ols(daily)\n",
    "    csd_rd, csd_ci, csd_info = rdtools.degradation_classical_decomposition(daily.fillna(method='ffill').fillna(method='bfill'))\n",
    "\n",
    "#     print(yoy_rd, ols_rd, csd_rd)\n",
    "\n",
    "    # Visualize the results\n",
    "#     start = daily.index[0]\n",
    "#     end = daily.index[-1]\n",
    "#     years = (end - start).days / 365.0\n",
    "#     yoy_values = yoy_info['YoY_values']\n",
    "\n",
    "#     x = [start, end]\n",
    "#     y = [1, 1 + (yoy_rd * years) / 100]\n",
    "\n",
    "#     fig, (ax1, ax2) = plt.subplots(1,2, figsize=(10, 3))\n",
    "#     ax2.hist(yoy_values, label='YOY', bins=len(yoy_values)//40)\n",
    "#     ax2.axvline(x=yoy_rd, color='black', linestyle='dashed', linewidth=3)\n",
    "# #     ax2.set_xlim(-30,45)\n",
    "#     ax2.annotate( u' $R_{d}$ = %.2f%%/yr \\n confidence interval: \\n %.2f to %.2f %%/yr' \n",
    "#                  %(yoy_rd, yoy_ci[0], yoy_ci[1]),  xy=(0.5, 0.7), xycoords='axes fraction',\n",
    "#                 bbox=dict(facecolor='white', edgecolor=None, alpha = 0))\n",
    "#     ax2.set_xlabel('Annual degradation (%)');\n",
    "\n",
    "#     ax1.plot(daily.index, daily / yoy_info['renormalizing_factor'], 'o', alpha = 0.5)\n",
    "#     ax1.plot(x, y, 'k--', linewidth=3)\n",
    "#     ax1.set_xlabel('Date')\n",
    "#     ax1.set_ylabel('Renormalized Energy')\n",
    "# #     ax1.set_ylim(0.5, 1.1)\n",
    "#     fig.autofmt_xdate()\n",
    "\n",
    "    # fig.suptitle('Sensor-based degradation results');\n",
    "    return daily, yoy_rd, ols_rd, csd_rd"
   ]
  },
  {
   "cell_type": "code",
   "execution_count": 71,
   "metadata": {
    "collapsed": true,
    "scrolled": false
   },
   "outputs": [],
   "source": [
    "def make_deg_df(meta_row, time_series):\n",
    "    try:\n",
    "        sys_id = meta_row['ID']\n",
    "        daily, yoy, ols, csd = rdtools_analysis(meta_row, time_series)\n",
    "        new_df = {'ID': sys_id, 'performance': pickle.dumps(daily), 'yoy_rd': yoy, 'ols_rd': ols, 'csd_rd': csd}\n",
    "        return new_df\n",
    "    except ValueError:\n",
    "        return {'ID': sys_id, 'performance': pickle.dumps([]), 'yoy_rd': np.nan, 'ols_rd': np.nan, 'csd_rd': np.nan}"
   ]
  },
  {
   "cell_type": "raw",
   "metadata": {},
   "source": [
    "make_deg_df(sys_meta.iloc[0], ts_df.iloc[0]['time_series_data'])"
   ]
  },
  {
   "cell_type": "raw",
   "metadata": {},
   "source": [
    "for idx, row in sys_meta.iloc[:2].iterrows():\n",
    "    print(row)"
   ]
  },
  {
   "cell_type": "code",
   "execution_count": 72,
   "metadata": {
    "collapsed": true
   },
   "outputs": [],
   "source": [
    "import concurrent.futures as cf"
   ]
  },
  {
   "cell_type": "code",
   "execution_count": 73,
   "metadata": {},
   "outputs": [],
   "source": [
    "# def test(a, b):\n",
    "#     return a + b\n",
    "\n",
    "sys_meta = sys_meta.sort_values('ID')\n",
    "ts_df = ts_df.sort_values('ID')"
   ]
  },
  {
   "cell_type": "code",
   "execution_count": 74,
   "metadata": {},
   "outputs": [],
   "source": [
    "results = []\n",
    "with cf.ProcessPoolExecutor() as ex:\n",
    "    future_list = [ex.submit(make_deg_df, a, b['time_series_data']) \n",
    "                     for (idxa, a), (idxb, b) in zip(sys_meta.iterrows(), ts_df.iterrows())]\n",
    "    for future in cf.as_completed(future_list):\n",
    "        results.append(future.result())\n",
    "# print(results)"
   ]
  },
  {
   "cell_type": "code",
   "execution_count": 76,
   "metadata": {},
   "outputs": [
    {
     "data": {
      "text/plain": [
       "409"
      ]
     },
     "execution_count": 76,
     "metadata": {},
     "output_type": "execute_result"
    }
   ],
   "source": [
    "len(pd.DataFrame(results).dropna())"
   ]
  },
  {
   "cell_type": "code",
   "execution_count": 77,
   "metadata": {
    "collapsed": true
   },
   "outputs": [],
   "source": [
    "rd_df = pd.DataFrame(results)"
   ]
  },
  {
   "cell_type": "code",
   "execution_count": 78,
   "metadata": {},
   "outputs": [
    {
     "data": {
      "text/html": [
       "<div>\n",
       "<style scoped>\n",
       "    .dataframe tbody tr th:only-of-type {\n",
       "        vertical-align: middle;\n",
       "    }\n",
       "\n",
       "    .dataframe tbody tr th {\n",
       "        vertical-align: top;\n",
       "    }\n",
       "\n",
       "    .dataframe thead th {\n",
       "        text-align: right;\n",
       "    }\n",
       "</style>\n",
       "<table border=\"1\" class=\"dataframe\">\n",
       "  <thead>\n",
       "    <tr style=\"text-align: right;\">\n",
       "      <th></th>\n",
       "      <th>ID</th>\n",
       "      <th>csd_rd</th>\n",
       "      <th>ols_rd</th>\n",
       "      <th>performance</th>\n",
       "      <th>yoy_rd</th>\n",
       "    </tr>\n",
       "  </thead>\n",
       "  <tbody>\n",
       "    <tr>\n",
       "      <th>0</th>\n",
       "      <td>1519</td>\n",
       "      <td>2.318220</td>\n",
       "      <td>1.862156</td>\n",
       "      <td>b'\\x80\\x03cpandas.core.series\\nSeries\\nq\\x00)\\...</td>\n",
       "      <td>-0.223590</td>\n",
       "    </tr>\n",
       "    <tr>\n",
       "      <th>1</th>\n",
       "      <td>1533</td>\n",
       "      <td>0.200015</td>\n",
       "      <td>4.007570</td>\n",
       "      <td>b'\\x80\\x03cpandas.core.series\\nSeries\\nq\\x00)\\...</td>\n",
       "      <td>-1.346519</td>\n",
       "    </tr>\n",
       "    <tr>\n",
       "      <th>2</th>\n",
       "      <td>1095</td>\n",
       "      <td>4.364847</td>\n",
       "      <td>0.745874</td>\n",
       "      <td>b'\\x80\\x03cpandas.core.series\\nSeries\\nq\\x00)\\...</td>\n",
       "      <td>0.839860</td>\n",
       "    </tr>\n",
       "    <tr>\n",
       "      <th>3</th>\n",
       "      <td>1421</td>\n",
       "      <td>-4.106687</td>\n",
       "      <td>0.099126</td>\n",
       "      <td>b'\\x80\\x03cpandas.core.series\\nSeries\\nq\\x00)\\...</td>\n",
       "      <td>-1.072877</td>\n",
       "    </tr>\n",
       "    <tr>\n",
       "      <th>4</th>\n",
       "      <td>1384</td>\n",
       "      <td>0.220619</td>\n",
       "      <td>0.628772</td>\n",
       "      <td>b'\\x80\\x03cpandas.core.series\\nSeries\\nq\\x00)\\...</td>\n",
       "      <td>0.379126</td>\n",
       "    </tr>\n",
       "  </tbody>\n",
       "</table>\n",
       "</div>"
      ],
      "text/plain": [
       "     ID    csd_rd    ols_rd  \\\n",
       "0  1519  2.318220  1.862156   \n",
       "1  1533  0.200015  4.007570   \n",
       "2  1095  4.364847  0.745874   \n",
       "3  1421 -4.106687  0.099126   \n",
       "4  1384  0.220619  0.628772   \n",
       "\n",
       "                                         performance    yoy_rd  \n",
       "0  b'\\x80\\x03cpandas.core.series\\nSeries\\nq\\x00)\\... -0.223590  \n",
       "1  b'\\x80\\x03cpandas.core.series\\nSeries\\nq\\x00)\\... -1.346519  \n",
       "2  b'\\x80\\x03cpandas.core.series\\nSeries\\nq\\x00)\\...  0.839860  \n",
       "3  b'\\x80\\x03cpandas.core.series\\nSeries\\nq\\x00)\\... -1.072877  \n",
       "4  b'\\x80\\x03cpandas.core.series\\nSeries\\nq\\x00)\\...  0.379126  "
      ]
     },
     "execution_count": 78,
     "metadata": {},
     "output_type": "execute_result"
    }
   ],
   "source": [
    "rd_df.head()"
   ]
  },
  {
   "cell_type": "code",
   "execution_count": 79,
   "metadata": {},
   "outputs": [
    {
     "data": {
      "text/plain": [
       "14.178514999999999"
      ]
     },
     "execution_count": 79,
     "metadata": {},
     "output_type": "execute_result"
    }
   ],
   "source": [
    "(rd_df.memory_usage(deep=True) * 1e-6).sum()"
   ]
  },
  {
   "cell_type": "code",
   "execution_count": 80,
   "metadata": {
    "collapsed": true
   },
   "outputs": [],
   "source": [
    "sys_meta_rd = sys_meta.merge(rd_df, left_on='ID', right_on='ID')"
   ]
  },
  {
   "cell_type": "code",
   "execution_count": 81,
   "metadata": {},
   "outputs": [
    {
     "data": {
      "text/html": [
       "<div>\n",
       "<style scoped>\n",
       "    .dataframe tbody tr th:only-of-type {\n",
       "        vertical-align: middle;\n",
       "    }\n",
       "\n",
       "    .dataframe tbody tr th {\n",
       "        vertical-align: top;\n",
       "    }\n",
       "\n",
       "    .dataframe thead th {\n",
       "        text-align: right;\n",
       "    }\n",
       "</style>\n",
       "<table border=\"1\" class=\"dataframe\">\n",
       "  <thead>\n",
       "    <tr style=\"text-align: right;\">\n",
       "      <th></th>\n",
       "      <th>ID</th>\n",
       "      <th>system_name</th>\n",
       "      <th>system_size (W)</th>\n",
       "      <th>postcode</th>\n",
       "      <th>n_panels</th>\n",
       "      <th>p_panel (W)</th>\n",
       "      <th>panel_brand</th>\n",
       "      <th>n_inverters</th>\n",
       "      <th>p_inverter (W)</th>\n",
       "      <th>inverter_brand</th>\n",
       "      <th>...</th>\n",
       "      <th>elevation (m)</th>\n",
       "      <th>orientation (deg)</th>\n",
       "      <th>climate</th>\n",
       "      <th>county</th>\n",
       "      <th>state (abbr)</th>\n",
       "      <th>state (name)</th>\n",
       "      <th>csd_rd</th>\n",
       "      <th>ols_rd</th>\n",
       "      <th>performance</th>\n",
       "      <th>yoy_rd</th>\n",
       "    </tr>\n",
       "  </thead>\n",
       "  <tbody>\n",
       "    <tr>\n",
       "      <th>0</th>\n",
       "      <td>1095</td>\n",
       "      <td>FewsFord</td>\n",
       "      <td>2160</td>\n",
       "      <td>27712</td>\n",
       "      <td>12</td>\n",
       "      <td>180</td>\n",
       "      <td>Day4</td>\n",
       "      <td>1</td>\n",
       "      <td>6000</td>\n",
       "      <td>Xantrex xw6048</td>\n",
       "      <td>...</td>\n",
       "      <td>178.627951</td>\n",
       "      <td>180.0</td>\n",
       "      <td>Cfa</td>\n",
       "      <td>Orange</td>\n",
       "      <td>NC</td>\n",
       "      <td>North Carolina</td>\n",
       "      <td>4.364847</td>\n",
       "      <td>0.745874</td>\n",
       "      <td>b'\\x80\\x03cpandas.core.series\\nSeries\\nq\\x00)\\...</td>\n",
       "      <td>0.839860</td>\n",
       "    </tr>\n",
       "    <tr>\n",
       "      <th>1</th>\n",
       "      <td>1384</td>\n",
       "      <td>Eric's System</td>\n",
       "      <td>2760</td>\n",
       "      <td>55116</td>\n",
       "      <td>12</td>\n",
       "      <td>230</td>\n",
       "      <td>Siliken SLK60P6L</td>\n",
       "      <td>12</td>\n",
       "      <td>190</td>\n",
       "      <td>Enphase M190</td>\n",
       "      <td>...</td>\n",
       "      <td>290.865427</td>\n",
       "      <td>180.0</td>\n",
       "      <td>Dfb</td>\n",
       "      <td>Ramsey</td>\n",
       "      <td>MN</td>\n",
       "      <td>Minnesota</td>\n",
       "      <td>0.220619</td>\n",
       "      <td>0.628772</td>\n",
       "      <td>b'\\x80\\x03cpandas.core.series\\nSeries\\nq\\x00)\\...</td>\n",
       "      <td>0.379126</td>\n",
       "    </tr>\n",
       "    <tr>\n",
       "      <th>2</th>\n",
       "      <td>1421</td>\n",
       "      <td>Bartfamily PV Array</td>\n",
       "      <td>3360</td>\n",
       "      <td>21009</td>\n",
       "      <td>16</td>\n",
       "      <td>210</td>\n",
       "      <td>Evergreen ES-A-210-fa2</td>\n",
       "      <td>1</td>\n",
       "      <td>3000</td>\n",
       "      <td>SMA Sunnyboy 3000US</td>\n",
       "      <td>...</td>\n",
       "      <td>51.222543</td>\n",
       "      <td>180.0</td>\n",
       "      <td>Cfa</td>\n",
       "      <td>Harford</td>\n",
       "      <td>MD</td>\n",
       "      <td>Maryland</td>\n",
       "      <td>-4.106687</td>\n",
       "      <td>0.099126</td>\n",
       "      <td>b'\\x80\\x03cpandas.core.series\\nSeries\\nq\\x00)\\...</td>\n",
       "      <td>-1.072877</td>\n",
       "    </tr>\n",
       "    <tr>\n",
       "      <th>3</th>\n",
       "      <td>1519</td>\n",
       "      <td>Ohiobiker</td>\n",
       "      <td>9870</td>\n",
       "      <td>43138</td>\n",
       "      <td>42</td>\n",
       "      <td>235</td>\n",
       "      <td>NU-U235F1</td>\n",
       "      <td>42</td>\n",
       "      <td>250</td>\n",
       "      <td>Enphase Energy M250</td>\n",
       "      <td>...</td>\n",
       "      <td>296.185038</td>\n",
       "      <td>135.0</td>\n",
       "      <td>Cfa</td>\n",
       "      <td>Hocking</td>\n",
       "      <td>OH</td>\n",
       "      <td>Ohio</td>\n",
       "      <td>2.318220</td>\n",
       "      <td>1.862156</td>\n",
       "      <td>b'\\x80\\x03cpandas.core.series\\nSeries\\nq\\x00)\\...</td>\n",
       "      <td>-0.223590</td>\n",
       "    </tr>\n",
       "    <tr>\n",
       "      <th>4</th>\n",
       "      <td>1533</td>\n",
       "      <td>University Place WA Array</td>\n",
       "      <td>16660</td>\n",
       "      <td>98466</td>\n",
       "      <td>68</td>\n",
       "      <td>245</td>\n",
       "      <td>Sharp 175 &amp; LG 270</td>\n",
       "      <td>68</td>\n",
       "      <td>210</td>\n",
       "      <td>Enphase</td>\n",
       "      <td>...</td>\n",
       "      <td>105.450580</td>\n",
       "      <td>180.0</td>\n",
       "      <td>Csb</td>\n",
       "      <td>Pierce</td>\n",
       "      <td>WA</td>\n",
       "      <td>Washington</td>\n",
       "      <td>0.200015</td>\n",
       "      <td>4.007570</td>\n",
       "      <td>b'\\x80\\x03cpandas.core.series\\nSeries\\nq\\x00)\\...</td>\n",
       "      <td>-1.346519</td>\n",
       "    </tr>\n",
       "  </tbody>\n",
       "</table>\n",
       "<p>5 rows × 44 columns</p>\n",
       "</div>"
      ],
      "text/plain": [
       "     ID                system_name  system_size (W)  postcode  n_panels  \\\n",
       "0  1095                   FewsFord             2160     27712        12   \n",
       "1  1384              Eric's System             2760     55116        12   \n",
       "2  1421        Bartfamily PV Array             3360     21009        16   \n",
       "3  1519                  Ohiobiker             9870     43138        42   \n",
       "4  1533  University Place WA Array            16660     98466        68   \n",
       "\n",
       "   p_panel (W)             panel_brand  n_inverters  p_inverter (W)  \\\n",
       "0          180                    Day4            1            6000   \n",
       "1          230        Siliken SLK60P6L           12             190   \n",
       "2          210  Evergreen ES-A-210-fa2            1            3000   \n",
       "3          235               NU-U235F1           42             250   \n",
       "4          245      Sharp 175 & LG 270           68             210   \n",
       "\n",
       "        inverter_brand    ...    elevation (m)  orientation (deg) climate  \\\n",
       "0       Xantrex xw6048    ...       178.627951              180.0     Cfa   \n",
       "1         Enphase M190    ...       290.865427              180.0     Dfb   \n",
       "2  SMA Sunnyboy 3000US    ...        51.222543              180.0     Cfa   \n",
       "3  Enphase Energy M250    ...       296.185038              135.0     Cfa   \n",
       "4              Enphase    ...       105.450580              180.0     Csb   \n",
       "\n",
       "    county  state (abbr)    state (name)    csd_rd    ols_rd  \\\n",
       "0   Orange            NC  North Carolina  4.364847  0.745874   \n",
       "1   Ramsey            MN       Minnesota  0.220619  0.628772   \n",
       "2  Harford            MD        Maryland -4.106687  0.099126   \n",
       "3  Hocking            OH            Ohio  2.318220  1.862156   \n",
       "4   Pierce            WA      Washington  0.200015  4.007570   \n",
       "\n",
       "                                         performance    yoy_rd  \n",
       "0  b'\\x80\\x03cpandas.core.series\\nSeries\\nq\\x00)\\...  0.839860  \n",
       "1  b'\\x80\\x03cpandas.core.series\\nSeries\\nq\\x00)\\...  0.379126  \n",
       "2  b'\\x80\\x03cpandas.core.series\\nSeries\\nq\\x00)\\... -1.072877  \n",
       "3  b'\\x80\\x03cpandas.core.series\\nSeries\\nq\\x00)\\... -0.223590  \n",
       "4  b'\\x80\\x03cpandas.core.series\\nSeries\\nq\\x00)\\... -1.346519  \n",
       "\n",
       "[5 rows x 44 columns]"
      ]
     },
     "execution_count": 81,
     "metadata": {},
     "output_type": "execute_result"
    }
   ],
   "source": [
    "sys_meta_rd.head()"
   ]
  },
  {
   "cell_type": "code",
   "execution_count": 85,
   "metadata": {},
   "outputs": [
    {
     "data": {
      "text/plain": [
       "14.949375999999999"
      ]
     },
     "execution_count": 85,
     "metadata": {},
     "output_type": "execute_result"
    }
   ],
   "source": [
    "(sys_meta_rd.memory_usage(deep=True) * 1e-6).sum()"
   ]
  },
  {
   "cell_type": "code",
   "execution_count": 87,
   "metadata": {},
   "outputs": [
    {
     "data": {
      "text/plain": [
       "['admin', 'local', 'pvdaq', 'pvdata', 'pvproduction', 'test_db']"
      ]
     },
     "execution_count": 87,
     "metadata": {},
     "output_type": "execute_result"
    }
   ],
   "source": [
    "from pymongo import MongoClient\n",
    "user = os.environ.get('MONGOD_DURAMAT_ADMIN_USER')\n",
    "passwd = os.environ.get('MONGOD_DURAMAT_ADMIN_PASS')\n",
    "leftover = os.environ.get('MONGOD_DURAMAT_LEFTOVER')\n",
    "client = MongoClient('mongodb+srv://{}:{}@{}'.format(user, passwd, leftover))\n",
    "client.database_names()"
   ]
  },
  {
   "cell_type": "code",
   "execution_count": 88,
   "metadata": {
    "collapsed": true
   },
   "outputs": [],
   "source": [
    "client.drop_database('pvdata')"
   ]
  },
  {
   "cell_type": "code",
   "execution_count": 89,
   "metadata": {},
   "outputs": [
    {
     "data": {
      "text/plain": [
       "['admin', 'local', 'pvdaq', 'pvproduction', 'test_db']"
      ]
     },
     "execution_count": 89,
     "metadata": {},
     "output_type": "execute_result"
    }
   ],
   "source": [
    "client.database_names()"
   ]
  },
  {
   "cell_type": "code",
   "execution_count": 90,
   "metadata": {
    "collapsed": true
   },
   "outputs": [],
   "source": [
    "newdb = client['pvdata']"
   ]
  },
  {
   "cell_type": "code",
   "execution_count": 91,
   "metadata": {
    "collapsed": true
   },
   "outputs": [],
   "source": [
    "newcoll = newdb['appdata']"
   ]
  },
  {
   "cell_type": "code",
   "execution_count": 104,
   "metadata": {},
   "outputs": [
    {
     "name": "stdout",
     "output_type": "stream",
     "text": [
      "1095\n"
     ]
    },
    {
     "data": {
      "text/plain": [
       "local_time\n",
       "2011-08-05 00:00:00-04:00    0.182685\n",
       "2011-08-06 00:00:00-04:00    0.766664\n",
       "2011-08-07 00:00:00-04:00    0.502401\n",
       "2011-08-08 00:00:00-04:00    0.520899\n",
       "2011-08-09 00:00:00-04:00    0.574375\n",
       "2011-08-10 00:00:00-04:00    0.404636\n",
       "2011-08-11 00:00:00-04:00    0.465352\n",
       "2011-08-12 00:00:00-04:00    0.592225\n",
       "2011-08-13 00:00:00-04:00    0.337684\n",
       "2011-08-14 00:00:00-04:00    0.453886\n",
       "2011-08-15 00:00:00-04:00    0.536029\n",
       "2011-08-16 00:00:00-04:00    0.489514\n",
       "2011-08-17 00:00:00-04:00    0.393527\n",
       "2011-08-18 00:00:00-04:00    0.617929\n",
       "2011-08-19 00:00:00-04:00    0.537656\n",
       "2011-08-20 00:00:00-04:00    0.537975\n",
       "2011-08-21 00:00:00-04:00    0.596172\n",
       "2011-08-22 00:00:00-04:00    0.544453\n",
       "2011-08-23 00:00:00-04:00    0.441483\n",
       "2011-08-24 00:00:00-04:00    0.462724\n",
       "2011-08-25 00:00:00-04:00    0.525880\n",
       "2011-08-26 00:00:00-04:00    0.465854\n",
       "2011-08-27 00:00:00-04:00         NaN\n",
       "2011-08-28 00:00:00-04:00    0.534384\n",
       "2011-08-29 00:00:00-04:00    0.758997\n",
       "2011-08-30 00:00:00-04:00    0.525268\n",
       "2011-08-31 00:00:00-04:00    0.503657\n",
       "2011-09-01 00:00:00-04:00    0.526625\n",
       "2011-09-02 00:00:00-04:00    0.514084\n",
       "2011-09-03 00:00:00-04:00    0.528543\n",
       "                               ...   \n",
       "2017-07-01 00:00:00-04:00    0.604630\n",
       "2017-07-02 00:00:00-04:00    0.522446\n",
       "2017-07-03 00:00:00-04:00    0.614487\n",
       "2017-07-04 00:00:00-04:00    0.788416\n",
       "2017-07-05 00:00:00-04:00    0.504151\n",
       "2017-07-06 00:00:00-04:00    0.618056\n",
       "2017-07-07 00:00:00-04:00    0.452356\n",
       "2017-07-08 00:00:00-04:00    0.552981\n",
       "2017-07-09 00:00:00-04:00    0.586834\n",
       "2017-07-10 00:00:00-04:00    0.672594\n",
       "2017-07-11 00:00:00-04:00    0.680731\n",
       "2017-07-12 00:00:00-04:00    0.581736\n",
       "2017-07-13 00:00:00-04:00    0.554350\n",
       "2017-07-14 00:00:00-04:00    0.563080\n",
       "2017-07-15 00:00:00-04:00    0.630232\n",
       "2017-07-16 00:00:00-04:00    0.577908\n",
       "2017-07-17 00:00:00-04:00    0.679596\n",
       "2017-07-18 00:00:00-04:00    0.520209\n",
       "2017-07-19 00:00:00-04:00    0.673034\n",
       "2017-07-20 00:00:00-04:00    0.548526\n",
       "2017-07-21 00:00:00-04:00    0.572311\n",
       "2017-07-22 00:00:00-04:00    0.575035\n",
       "2017-07-23 00:00:00-04:00    0.706386\n",
       "2017-07-24 00:00:00-04:00    0.587494\n",
       "2017-07-25 00:00:00-04:00    0.636593\n",
       "2017-07-26 00:00:00-04:00    0.451323\n",
       "2017-07-27 00:00:00-04:00    0.471688\n",
       "2017-07-28 00:00:00-04:00    0.354912\n",
       "2017-07-29 00:00:00-04:00    0.601403\n",
       "2017-07-30 00:00:00-04:00    0.604006\n",
       "Freq: D, Name: normalized_energy, Length: 2187, dtype: float64"
      ]
     },
     "execution_count": 104,
     "metadata": {},
     "output_type": "execute_result"
    }
   ],
   "source": [
    "print(sys_meta_rd.to_dict('records')[0]['ID'])\n",
    "pickle.loads(sys_meta_rd.to_dict('records')[0]['performance'])"
   ]
  },
  {
   "cell_type": "code",
   "execution_count": 99,
   "metadata": {
    "collapsed": true
   },
   "outputs": [],
   "source": [
    "sys_meta_rd.to_pickle('sys_meta_rd.pkl')"
   ]
  },
  {
   "cell_type": "code",
   "execution_count": 100,
   "metadata": {},
   "outputs": [
    {
     "data": {
      "text/plain": [
       "Index(['ID', 'system_name', 'system_size (W)', 'postcode', 'n_panels',\n",
       "       'p_panel (W)', 'panel_brand', 'n_inverters', 'p_inverter (W)',\n",
       "       'inverter_brand', 'orientation (cardinal)', 'array_tilt (deg)', 'shade',\n",
       "       'install_date', 'active_days', 'latitude (deg)', 'longitude (deg)',\n",
       "       'elevation (ft)', 'status_interval (min)', 'WS_1', 'WS_2', 'WS_3',\n",
       "       'WS_4', 'WS_5', 'timezone', 'WS_1 Data %', 'WS_2 Data %', 'WS_3 Data %',\n",
       "       'WS_4 Data %', 'WS_5 Data %', 'Most Data WS', 'last_update',\n",
       "       'Most Data WS Name', 'DB_ID', 'elevation (m)', 'orientation (deg)',\n",
       "       'climate', 'county', 'state (abbr)', 'state (name)', 'csd_rd', 'ols_rd',\n",
       "       'performance', 'yoy_rd'],\n",
       "      dtype='object')"
      ]
     },
     "execution_count": 100,
     "metadata": {},
     "output_type": "execute_result"
    }
   ],
   "source": [
    "sys_meta_rd.where(sys_meta_rd['system_name'] == 'FewsFord').dropna().keys()"
   ]
  },
  {
   "cell_type": "code",
   "execution_count": 94,
   "metadata": {},
   "outputs": [
    {
     "data": {
      "text/plain": [
       "<pymongo.results.InsertManyResult at 0x23ee85dc8>"
      ]
     },
     "execution_count": 94,
     "metadata": {},
     "output_type": "execute_result"
    }
   ],
   "source": [
    "newcoll.insert_many(sys_meta_rd.to_dict('records'))"
   ]
  },
  {
   "cell_type": "code",
   "execution_count": 96,
   "metadata": {},
   "outputs": [
    {
     "data": {
      "text/plain": [
       "[{'ID': 1095,\n",
       "  '_id': ObjectId('5b197800bd49aab35deb1cfb'),\n",
       "  'system_name': 'FewsFord',\n",
       "  'system_size (W)': 2160}]"
      ]
     },
     "execution_count": 96,
     "metadata": {},
     "output_type": "execute_result"
    }
   ],
   "source": [
    "list(newcoll.find({'ID': 1095}, {'ID': 1, 'system_name': 1, 'system_size (W)': 1}))"
   ]
  },
  {
   "cell_type": "code",
   "execution_count": 106,
   "metadata": {},
   "outputs": [
    {
     "data": {
      "text/plain": [
       "0       (72.685, 11416.5]\n",
       "1       (72.685, 11416.5]\n",
       "2       (72.685, 11416.5]\n",
       "3       (72.685, 11416.5]\n",
       "4      (11416.5, 22648.0]\n",
       "5       (72.685, 11416.5]\n",
       "6       (72.685, 11416.5]\n",
       "7       (72.685, 11416.5]\n",
       "8       (72.685, 11416.5]\n",
       "9       (72.685, 11416.5]\n",
       "10      (72.685, 11416.5]\n",
       "11     (11416.5, 22648.0]\n",
       "12      (72.685, 11416.5]\n",
       "13      (72.685, 11416.5]\n",
       "14      (72.685, 11416.5]\n",
       "15      (72.685, 11416.5]\n",
       "16      (72.685, 11416.5]\n",
       "17      (72.685, 11416.5]\n",
       "18      (72.685, 11416.5]\n",
       "19      (72.685, 11416.5]\n",
       "20      (72.685, 11416.5]\n",
       "21      (72.685, 11416.5]\n",
       "22      (72.685, 11416.5]\n",
       "23      (72.685, 11416.5]\n",
       "24      (72.685, 11416.5]\n",
       "25     (11416.5, 22648.0]\n",
       "26      (72.685, 11416.5]\n",
       "27     (11416.5, 22648.0]\n",
       "28      (72.685, 11416.5]\n",
       "29      (72.685, 11416.5]\n",
       "              ...        \n",
       "543     (72.685, 11416.5]\n",
       "544     (72.685, 11416.5]\n",
       "545    (11416.5, 22648.0]\n",
       "546     (72.685, 11416.5]\n",
       "547     (72.685, 11416.5]\n",
       "548     (72.685, 11416.5]\n",
       "549    (33879.5, 45111.0]\n",
       "550     (72.685, 11416.5]\n",
       "551     (72.685, 11416.5]\n",
       "552     (72.685, 11416.5]\n",
       "553     (72.685, 11416.5]\n",
       "554     (72.685, 11416.5]\n",
       "555     (72.685, 11416.5]\n",
       "556     (72.685, 11416.5]\n",
       "557     (72.685, 11416.5]\n",
       "558     (72.685, 11416.5]\n",
       "559     (72.685, 11416.5]\n",
       "560     (72.685, 11416.5]\n",
       "561     (72.685, 11416.5]\n",
       "562     (72.685, 11416.5]\n",
       "563     (72.685, 11416.5]\n",
       "564     (72.685, 11416.5]\n",
       "565     (72.685, 11416.5]\n",
       "566     (72.685, 11416.5]\n",
       "567    (11416.5, 22648.0]\n",
       "568     (72.685, 11416.5]\n",
       "569     (72.685, 11416.5]\n",
       "570     (72.685, 11416.5]\n",
       "571     (72.685, 11416.5]\n",
       "572    (11416.5, 22648.0]\n",
       "Name: system_size (W), Length: 573, dtype: object"
      ]
     },
     "execution_count": 106,
     "metadata": {},
     "output_type": "execute_result"
    }
   ],
   "source": [
    "pd.cut(sys_meta_rd['system_size (W)'], 10).astype('str')"
   ]
  },
  {
   "cell_type": "raw",
   "metadata": {},
   "source": [
    "%%timeit\n",
    "future_list = [make_deg_df(a, b['time_series_data']) \n",
    "               for (idxa, a), (idxb, b) in zip(sys_meta.iloc[:4].iterrows(), ts_df.iloc[:4].iterrows())]"
   ]
  },
  {
   "cell_type": "raw",
   "metadata": {},
   "source": [
    "make_deg_df(sys_meta, ts_df)"
   ]
  },
  {
   "cell_type": "raw",
   "metadata": {
    "collapsed": true
   },
   "source": [
    "import multiprocessing as mp"
   ]
  },
  {
   "cell_type": "raw",
   "metadata": {},
   "source": [
    "num_processes = mp.cpu_count()\n",
    "print(num_processes)\n",
    "\n",
    "sys_meta = sys_meta.sort_values('ID')\n",
    "ts_df = ts_df.sort_values('ID')\n",
    "print(np.array_equal(sys_meta['ID'].values, ts_df['ID'].values))\n",
    "\n",
    "\n",
    "# calculate the chunk size as an integer\n",
    "chunk_size = int(sys_meta.shape[0] / num_processes) + 1\n",
    "print(chunk_size)\n",
    "\n",
    "# this solution was reworked from the above link.\n",
    "# will work even if the length of the dataframe is not evenly divisible by num_processes\n",
    "chunks_meta = [sys_meta.iloc[i: i + chunk_size] for i in range(0, sys_meta.shape[0], chunk_size)]\n",
    "chunks_ts = [ts_df.iloc[i: i + chunk_size] for i in range(0, ts_df.shape[0], chunk_size)]"
   ]
  },
  {
   "cell_type": "raw",
   "metadata": {},
   "source": [
    "print([len(i) for i in chunks_meta])"
   ]
  },
  {
   "cell_type": "raw",
   "metadata": {},
   "source": [
    "import itertools\n",
    "\n",
    "pool = mp.Pool(num_processes)\n",
    "\n",
    "result = pool.starmap(make_deg_df, itertools.product(chunks_meta, chunks_ts))"
   ]
  },
  {
   "cell_type": "code",
   "execution_count": null,
   "metadata": {
    "collapsed": true
   },
   "outputs": [],
   "source": [
    "from plotly.offline import download_plotlyjs, init_notebook_mode, plot, iplot\n",
    "import plotly.graph_objs as go\n",
    "init_notebook_mode(connected=True)\n",
    "import cufflinks as cf\n",
    "cf.go_offline()"
   ]
  },
  {
   "cell_type": "code",
   "execution_count": null,
   "metadata": {
    "collapsed": true
   },
   "outputs": [],
   "source": [
    "traces = []\n",
    "min_p = 1e6\n",
    "max_p = -1e6\n",
    "for idx, i in full_df.iterrows():\n",
    "    ts = pickle.loads(i['time_series_data'])\n",
    "    ts = ts[ts['power (W)'] > 0]\n",
    "    ts = ts.resample('M').median()\n",
    "    ts = ts.dropna(subset=['power (W)'])\n",
    "    ts['power (W)'] = ts['power (W)'] / i['system_size (W)']\n",
    "    min_p = min(min_p, ts['power (W)'].min())\n",
    "    max_p = max(max_p, ts['power (W)'].max())\n",
    "    if idx == 10:\n",
    "        showscale = True\n",
    "    else:\n",
    "        showscale = False\n",
    "    traces.append(\n",
    "        go.Scatter(x=ts.index, y=['[{}]'.format(i['ID'])] * len(ts),\n",
    "                   mode='markers', name=i['ID'],\n",
    "                   marker={'color': ts['power (W)'], 'symbol': 'square', \n",
    "                           'showscale': showscale, 'cmin': min_p, 'cmax': max_p, 'colorscale': 'RdBu',\n",
    "                          'colorbar': {'title': 'W/Wp', 'titleside': 'right'}},\n",
    "                  hoverinfo='text', text=['{}: {:.3f}'.format(i['ID'], x) for x in ts['power (W)']]) \n",
    "    )\n",
    "    if idx == 100: break\n",
    "layout = go.Layout(legend=dict(orientation='h'))\n",
    "fig = go.Figure(data=traces, layout=layout)\n",
    "iplot(fig)"
   ]
  },
  {
   "cell_type": "code",
   "execution_count": null,
   "metadata": {
    "collapsed": true,
    "scrolled": false
   },
   "outputs": [],
   "source": [
    "traces = []\n",
    "min_p = 1e6\n",
    "max_p = -1e6\n",
    "vals = {}\n",
    "for idx, i in full_df.iterrows():\n",
    "    ts = pickle.loads(i['time_series_data'])\n",
    "    ts = ts[ts['power (W)'] > 0]\n",
    "    ts = ts.resample('M').mean()\n",
    "    ts.index = [i.date() for i in ts.index]\n",
    "    ts['power (W)'] = ts['power (W)'] / i['system_size (W)']\n",
    "    vals[i['ID']] = ts['power (W)']\n",
    "    if idx == 300: break\n",
    "        \n",
    "df2 = pd.DataFrame.from_dict(vals, orient='index')\n",
    "df2 = df2.T\n",
    "df2 = df2.sort_index()\n",
    "\n",
    "df2\n",
    "\n",
    "traces = [go.Heatmap(x=df2.index, y=['[{}]'.format(i) for i in df2.keys()], z=df2.values.T, colorbar={'title': 'W/Wp', 'titleside': 'right'})]\n",
    "# layout = go.Layout(height=500, width=(500 / len(df2.keys())) * len(df2.index))\n",
    "layout = go.Layout(width=600, xaxis={'title': 'Date'}, yaxis={'title': 'System ID'})\n",
    "fig = go.Figure(data=traces, layout=layout)\n",
    "iplot(fig)"
   ]
  },
  {
   "cell_type": "code",
   "execution_count": null,
   "metadata": {
    "collapsed": true
   },
   "outputs": [],
   "source": []
  }
 ],
 "metadata": {
  "kernelspec": {
   "display_name": "Python 3",
   "language": "python",
   "name": "python3"
  },
  "language_info": {
   "codemirror_mode": {
    "name": "ipython",
    "version": 3
   },
   "file_extension": ".py",
   "mimetype": "text/x-python",
   "name": "python",
   "nbconvert_exporter": "python",
   "pygments_lexer": "ipython3",
   "version": "3.5.3"
  },
  "toc": {
   "colors": {
    "hover_highlight": "#DAA520",
    "navigate_num": "#000000",
    "navigate_text": "#333333",
    "running_highlight": "#FF0000",
    "selected_highlight": "#FFD700",
    "sidebar_border": "#EEEEEE",
    "wrapper_background": "#FFFFFF"
   },
   "moveMenuLeft": true,
   "nav_menu": {
    "height": "13px",
    "width": "251px"
   },
   "navigate_menu": true,
   "number_sections": true,
   "sideBar": true,
   "threshold": 4,
   "toc_cell": true,
   "toc_section_display": "block",
   "toc_window_display": true,
   "widenNotebook": false
  }
 },
 "nbformat": 4,
 "nbformat_minor": 1
}
